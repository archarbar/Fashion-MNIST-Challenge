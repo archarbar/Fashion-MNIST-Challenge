{
  "nbformat": 4,
  "nbformat_minor": 0,
  "metadata": {
    "colab": {
      "name": "Assignment 4.ipynb",
      "provenance": [],
      "collapsed_sections": [],
      "toc_visible": true,
      "machine_shape": "hm"
    },
    "kernelspec": {
      "name": "python3",
      "display_name": "Python 3"
    },
    "accelerator": "GPU"
  },
  "cells": [
    {
      "cell_type": "code",
      "metadata": {
        "id": "XmWot5dnxLwS",
        "colab_type": "code",
        "outputId": "16b61eac-b488-4970-d34d-8d9dc6967d61",
        "colab": {
          "base_uri": "https://localhost:8080/",
          "height": 34
        }
      },
      "source": [
        "from google.colab import drive\n",
        "drive.mount('/content/drive', force_remount=True)"
      ],
      "execution_count": 0,
      "outputs": [
        {
          "output_type": "stream",
          "text": [
            "Mounted at /content/drive\n"
          ],
          "name": "stdout"
        }
      ]
    },
    {
      "cell_type": "code",
      "metadata": {
        "id": "5cSgWMK633RA",
        "colab_type": "code",
        "colab": {}
      },
      "source": [
        "from google.colab import files\n",
        "token = files.upload()"
      ],
      "execution_count": 0,
      "outputs": []
    },
    {
      "cell_type": "code",
      "metadata": {
        "id": "_ufZthrQIov-",
        "colab_type": "code",
        "colab": {}
      },
      "source": [
        "import os\n",
        "os.chdir(r'/content/drive/My Drive/MAIS 202 Assignments/Assignment 4')"
      ],
      "execution_count": 0,
      "outputs": []
    },
    {
      "cell_type": "code",
      "metadata": {
        "id": "P1YeJeYbaxky",
        "colab_type": "code",
        "colab": {}
      },
      "source": [
        "import os\n",
        "os.chdir(r'/content/drive/My Drive/')"
      ],
      "execution_count": 0,
      "outputs": []
    },
    {
      "cell_type": "code",
      "metadata": {
        "id": "3CGcDnynx5Pt",
        "colab_type": "code",
        "outputId": "b6737f68-ef02-4258-f861-b43a2e944ea2",
        "colab": {
          "base_uri": "https://localhost:8080/",
          "height": 170
        }
      },
      "source": [
        "!mkdir /root/.kaggle/\n",
        "!cp kaggle.json /root/.kaggle/ \n",
        "!kaggle competitions download -c winter2020-mais-202"
      ],
      "execution_count": 0,
      "outputs": [
        {
          "output_type": "stream",
          "text": [
            "cp: cannot stat 'kaggle.json': No such file or directory\n",
            "Traceback (most recent call last):\n",
            "  File \"/usr/local/bin/kaggle\", line 5, in <module>\n",
            "    from kaggle.cli import main\n",
            "  File \"/usr/local/lib/python2.7/dist-packages/kaggle/__init__.py\", line 23, in <module>\n",
            "    api.authenticate()\n",
            "  File \"/usr/local/lib/python2.7/dist-packages/kaggle/api/kaggle_api_extended.py\", line 146, in authenticate\n",
            "    self.config_file, self.config_dir))\n",
            "IOError: Could not find kaggle.json. Make sure it's located in /root/.kaggle. Or use the environment method.\n"
          ],
          "name": "stdout"
        }
      ]
    },
    {
      "cell_type": "code",
      "metadata": {
        "id": "v54xvAhkx9yV",
        "colab_type": "code",
        "outputId": "a083a0c3-4cf7-4158-dfce-e2aec428f431",
        "colab": {
          "base_uri": "https://localhost:8080/",
          "height": 51
        }
      },
      "source": [
        "!unzip -o 'train_images.npy.zip' \n",
        "!unzip -o 'test_images.npy.zip'"
      ],
      "execution_count": 0,
      "outputs": [
        {
          "output_type": "stream",
          "text": [
            "unzip:  cannot find or open train_images.npy.zip, train_images.npy.zip.zip or train_images.npy.zip.ZIP.\n",
            "unzip:  cannot find or open test_images.npy.zip, test_images.npy.zip.zip or test_images.npy.zip.ZIP.\n"
          ],
          "name": "stdout"
        }
      ]
    },
    {
      "cell_type": "code",
      "metadata": {
        "id": "BJ7fCdeM0_b_",
        "colab_type": "code",
        "colab": {}
      },
      "source": [
        "# !pip install numpy\n",
        "\n",
        "import keras\n",
        "from keras import optimizers\n",
        "from keras import regularizers\n",
        "from keras.layers import BatchNormalization\n",
        "from keras.datasets import mnist\n",
        "from keras.applications import VGG16, VGG19, InceptionResNetV2, Xception, NASNetLarge\n",
        "from keras.models import Sequential\n",
        "from keras.layers import Dense, Dropout, Activation, Flatten, Conv2D, MaxPooling2D, GlobalAveragePooling2D\n",
        "from keras.preprocessing import image\n",
        "from keras.models import Model\n",
        "from keras import backend as K\n",
        "from keras.preprocessing.image import ImageDataGenerator\n",
        "from keras.preprocessing.image import img_to_array\n",
        "from keras.preprocessing.image import load_img\n",
        "import cv2\n",
        "from sklearn.ensemble import RandomForestClassifier\n",
        "from sklearn.datasets import make_classification\n",
        "from sklearn.utils import shuffle\n",
        "\n",
        "import pickle\n",
        "from keras.models import model_from_json\n",
        "from keras.models import load_model\n",
        "import matplotlib.pyplot as plt\n",
        "import pandas as pd\n",
        "\n",
        "import numpy as np\n",
        "import csv\n",
        "import glob\n",
        "import random\n",
        "import math\n",
        "\n",
        "import tensorflow as tf\n"
      ],
      "execution_count": 0,
      "outputs": []
    },
    {
      "cell_type": "code",
      "metadata": {
        "id": "CZWh0a6Eg7jJ",
        "colab_type": "code",
        "outputId": "f76e6c91-3568-4775-c441-befe825634e2",
        "colab": {
          "base_uri": "https://localhost:8080/",
          "height": 170
        }
      },
      "source": [
        "!tf_upgrade_v2 \\\n",
        "  --intree my_project/ \\\n",
        "  --outtree my_project_v2/ \\\n",
        "  --reportfile report.txt"
      ],
      "execution_count": 0,
      "outputs": [
        {
          "output_type": "stream",
          "text": [
            "TensorFlow 2.0 Upgrade Script\n",
            "-----------------------------\n",
            "Converted 0 files\n",
            "Detected 0 issues that require attention\n",
            "--------------------------------------------------------------------------------\n",
            "\n",
            "\n",
            "Make sure to read the detailed log 'report.txt'\n",
            "\n"
          ],
          "name": "stdout"
        }
      ]
    },
    {
      "cell_type": "code",
      "metadata": {
        "id": "0FVleiFCfaXn",
        "colab_type": "code",
        "outputId": "4c1e7c0c-d992-489d-b260-84c9e46219b5",
        "colab": {
          "base_uri": "https://localhost:8080/",
          "height": 34
        }
      },
      "source": [
        "!pwd"
      ],
      "execution_count": 0,
      "outputs": [
        {
          "output_type": "stream",
          "text": [
            "/content/drive/My Drive\n"
          ],
          "name": "stdout"
        }
      ]
    },
    {
      "cell_type": "markdown",
      "metadata": {
        "id": "BxZeHPBZ4Rln",
        "colab_type": "text"
      },
      "source": [
        "# Preprocessing"
      ]
    },
    {
      "cell_type": "code",
      "metadata": {
        "id": "WCjHyoao4Ptt",
        "colab_type": "code",
        "colab": {}
      },
      "source": [
        "train_images = np.load('train_images.npy')\n",
        "test_images = np.load('test_images.npy')\n",
        "\n",
        "#reshape into 2 dimensions\n",
        "X_train = train_images.reshape(len(train_images),-1)\n",
        "X_train = X_train\n",
        "\n",
        "X_test = test_images.reshape(len(test_images),-1)\n",
        "X_test = X_test\n",
        "# print(train_images)\n",
        "\n",
        "# print(X_train)\n",
        "# print(len(train_images))\n",
        "\n",
        "y_train = pd.read_csv('train_labels.csv')\n",
        "y_train = y_train[\"label\"]\n",
        "\n",
        "#shuffle dataset\n",
        "X_train, y_train = shuffle(X_train, y_train)"
      ],
      "execution_count": 0,
      "outputs": []
    },
    {
      "cell_type": "code",
      "metadata": {
        "id": "ybKNVfr5572_",
        "colab_type": "code",
        "outputId": "6b3388aa-fcec-48e4-c34e-b4dc274e4a1c",
        "colab": {
          "base_uri": "https://localhost:8080/",
          "height": 204
        }
      },
      "source": [
        "y_train[:10]"
      ],
      "execution_count": 0,
      "outputs": [
        {
          "output_type": "execute_result",
          "data": {
            "text/plain": [
              "24965    4\n",
              "15158    3\n",
              "3565     3\n",
              "7997     6\n",
              "5003     0\n",
              "1478     8\n",
              "2802     0\n",
              "31605    2\n",
              "36691    4\n",
              "15853    2\n",
              "Name: label, dtype: int64"
            ]
          },
          "metadata": {
            "tags": []
          },
          "execution_count": 20
        }
      ]
    },
    {
      "cell_type": "code",
      "metadata": {
        "id": "m0T01927XxsO",
        "colab_type": "code",
        "colab": {}
      },
      "source": [
        "y = y_train.to_numpy()"
      ],
      "execution_count": 0,
      "outputs": []
    },
    {
      "cell_type": "code",
      "metadata": {
        "id": "fKb6SQGCYwIL",
        "colab_type": "code",
        "outputId": "14facfb1-7842-4926-da57-b835e1dee719",
        "colab": {
          "base_uri": "https://localhost:8080/",
          "height": 34
        }
      },
      "source": [
        "y_train.shape"
      ],
      "execution_count": 0,
      "outputs": [
        {
          "output_type": "execute_result",
          "data": {
            "text/plain": [
              "(50000,)"
            ]
          },
          "metadata": {
            "tags": []
          },
          "execution_count": 16
        }
      ]
    },
    {
      "cell_type": "code",
      "metadata": {
        "id": "mFLpg7yOY8UN",
        "colab_type": "code",
        "outputId": "3480135c-602e-4d4c-f78e-9a3ef5430486",
        "colab": {
          "base_uri": "https://localhost:8080/",
          "height": 34
        }
      },
      "source": [
        "X_train.shape"
      ],
      "execution_count": 0,
      "outputs": [
        {
          "output_type": "execute_result",
          "data": {
            "text/plain": [
              "(40000, 784)"
            ]
          },
          "metadata": {
            "tags": []
          },
          "execution_count": 10
        }
      ]
    },
    {
      "cell_type": "code",
      "metadata": {
        "id": "OsTxH6N5X81V",
        "colab_type": "code",
        "outputId": "b160f437-c4f1-4228-b6d2-5f956945cabc",
        "colab": {
          "base_uri": "https://localhost:8080/",
          "height": 34
        }
      },
      "source": [
        "y[:10]"
      ],
      "execution_count": 0,
      "outputs": [
        {
          "output_type": "execute_result",
          "data": {
            "text/plain": [
              "array([4, 3, 3, 6, 0, 8, 0, 2, 4, 2])"
            ]
          },
          "metadata": {
            "tags": []
          },
          "execution_count": 19
        }
      ]
    },
    {
      "cell_type": "code",
      "metadata": {
        "id": "tcsBcZcyX5Jh",
        "colab_type": "code",
        "outputId": "a78e8748-0db5-4dbb-b357-8b3acafa4b75",
        "colab": {
          "base_uri": "https://localhost:8080/",
          "height": 34
        }
      },
      "source": [
        "y.shape"
      ],
      "execution_count": 0,
      "outputs": [
        {
          "output_type": "execute_result",
          "data": {
            "text/plain": [
              "(50000,)"
            ]
          },
          "metadata": {
            "tags": []
          },
          "execution_count": 18
        }
      ]
    },
    {
      "cell_type": "code",
      "metadata": {
        "id": "Rkia80oA4enX",
        "colab_type": "code",
        "outputId": "b15e5665-66ce-48f9-8495-c211e6458a7a",
        "colab": {
          "base_uri": "https://localhost:8080/",
          "height": 34
        }
      },
      "source": [
        "X_train.shape"
      ],
      "execution_count": 0,
      "outputs": [
        {
          "output_type": "execute_result",
          "data": {
            "text/plain": [
              "(50000, 784)"
            ]
          },
          "metadata": {
            "tags": []
          },
          "execution_count": 15
        }
      ]
    },
    {
      "cell_type": "markdown",
      "metadata": {
        "id": "iiD-2Tkn4ZNW",
        "colab_type": "text"
      },
      "source": [
        "### Random Forest"
      ]
    },
    {
      "cell_type": "code",
      "metadata": {
        "id": "EouLv_9k1Csk",
        "colab_type": "code",
        "outputId": "30a6228e-b234-4ac6-812f-18e5884acbcc",
        "colab": {
          "base_uri": "https://localhost:8080/",
          "height": 34
        }
      },
      "source": [
        "rfc = RandomForestClassifier()\n",
        "\n",
        "rfc.fit(X_train, y_train)\n",
        "print('Training accuracy: ', rfc.score(X_train, y_train))"
      ],
      "execution_count": 0,
      "outputs": [
        {
          "output_type": "stream",
          "text": [
            "Training accuracy:  1.0\n"
          ],
          "name": "stdout"
        }
      ]
    },
    {
      "cell_type": "code",
      "metadata": {
        "id": "tVlFdmsIEEni",
        "colab_type": "code",
        "outputId": "5c80bdf8-0af9-41c0-9468-fb4359ba367a",
        "colab": {
          "base_uri": "https://localhost:8080/",
          "height": 34
        }
      },
      "source": [
        "y = rfc.predict(X_test)\n",
        "print(y)"
      ],
      "execution_count": 0,
      "outputs": [
        {
          "output_type": "stream",
          "text": [
            "[9 5 2 ... 3 8 6]\n"
          ],
          "name": "stdout"
        }
      ]
    },
    {
      "cell_type": "code",
      "metadata": {
        "id": "OXzgRt_YnG0Y",
        "colab_type": "code",
        "colab": {}
      },
      "source": [
        "with open('submission.csv', 'w') as csvfile:\n",
        "    writer = csv.writer(csvfile, delimiter=',')\n",
        "    writer.writerow(['ID', 'label'])\n",
        "\n",
        "    for c, row in enumerate(y):\n",
        "      writer.writerow((c, row))"
      ],
      "execution_count": 0,
      "outputs": []
    },
    {
      "cell_type": "markdown",
      "metadata": {
        "id": "IQoT9car6cjG",
        "colab_type": "text"
      },
      "source": [
        "# CNN"
      ]
    },
    {
      "cell_type": "code",
      "metadata": {
        "id": "4I7KZNpAcZMS",
        "colab_type": "code",
        "colab": {}
      },
      "source": [
        "import os\n",
        "os.chdir(r'/content/drive/My Drive/McGill/Winter 2020/MAIS 202 Bootcamp/Assignment/Assignment 4')"
      ],
      "execution_count": 0,
      "outputs": []
    },
    {
      "cell_type": "code",
      "metadata": {
        "id": "ExY6UI_ELHLH",
        "colab_type": "code",
        "colab": {}
      },
      "source": [
        "X_train = np.load('train_images.npy')\n",
        "X_test = np.load('test_images.npy')\n",
        "\n",
        "y_train = pd.read_csv('train_labels.csv')\n",
        "y_train = y_train[\"label\"]\n",
        "y_train = y_train.to_numpy()"
      ],
      "execution_count": 0,
      "outputs": []
    },
    {
      "cell_type": "code",
      "metadata": {
        "id": "RhhR8M9VQCc-",
        "colab_type": "code",
        "colab": {}
      },
      "source": [
        "X_train = X_train.reshape(50000, 28, 28, 1)\n",
        "X_test = X_test.reshape(20000, 28, 28, 1)"
      ],
      "execution_count": 0,
      "outputs": []
    },
    {
      "cell_type": "code",
      "metadata": {
        "id": "CU96i8Ppl2ch",
        "colab_type": "code",
        "colab": {}
      },
      "source": [
        "X_train = X_train / 255\n",
        "X_test = X_test / 255"
      ],
      "execution_count": 0,
      "outputs": []
    },
    {
      "cell_type": "code",
      "metadata": {
        "id": "9eS7o4HuNxcd",
        "colab_type": "code",
        "outputId": "67302635-5138-4c11-8cd8-ecaaf9f9ab62",
        "colab": {
          "base_uri": "https://localhost:8080/",
          "height": 62
        }
      },
      "source": [
        "from google.colab.patches import cv2_imshow\n",
        "\n",
        "cv2_imshow(X_train[3])\n",
        "y_train[3]"
      ],
      "execution_count": 0,
      "outputs": [
        {
          "output_type": "display_data",
          "data": {
            "image/png": "[encoded data removed]",
            "text/plain": [
              "<PIL.Image.Image image mode=RGB size=28x28 at 0x7FBAEBA236A0>"
            ]
          },
          "metadata": {
            "tags": []
          }
        },
        {
          "output_type": "execute_result",
          "data": {
            "text/plain": [
              "1"
            ]
          },
          "metadata": {
            "tags": []
          },
          "execution_count": 9
        }
      ]
    },
    {
      "cell_type": "code",
      "metadata": {
        "id": "ZG4PtZIrNb5x",
        "colab_type": "code",
        "outputId": "00938450-a2a1-4e25-b98e-f8eba3c03495",
        "colab": {
          "base_uri": "https://localhost:8080/",
          "height": 34
        }
      },
      "source": [
        "X_train.shape"
      ],
      "execution_count": 0,
      "outputs": [
        {
          "output_type": "execute_result",
          "data": {
            "text/plain": [
              "(50000, 28, 28, 1)"
            ]
          },
          "metadata": {
            "tags": []
          },
          "execution_count": 10
        }
      ]
    },
    {
      "cell_type": "code",
      "metadata": {
        "id": "l30CbUeifsui",
        "colab_type": "code",
        "colab": {}
      },
      "source": [
        "# create model\n",
        "model = Sequential()\n",
        "\n",
        "# add convolutional layer\n",
        "model.add(Conv2D(32, kernel_size=(3,3), activation='relu', input_shape=(28, 28, 1), padding='same'))\n",
        "\n",
        "model.add(Conv2D(64, (3,3), activation='relu'))\n",
        "\n",
        "# add pooling layer\n",
        "model.add(MaxPooling2D(pool_size=(2, 2)))\n",
        "\n",
        "# add dropout layer (prevent neural network from overfitting)\n",
        "model.add(Dropout(0.25))\n",
        "\n",
        "# add flatten layer to flatten into a 1D array\n",
        "model.add(Flatten())\n",
        "\n",
        "model.add(Dense(128, activation='relu'))\n",
        "model.add(Dropout(0.50))\n",
        "\n",
        "# add dense layer to predict output\n",
        "model.add(Dense(10, activation='softmax'))"
      ],
      "execution_count": 0,
      "outputs": []
    },
    {
      "cell_type": "code",
      "metadata": {
        "id": "WUsbgkkLjztc",
        "colab_type": "code",
        "colab": {}
      },
      "source": [
        "optimizer = optimizers.Adadelta()"
      ],
      "execution_count": 0,
      "outputs": []
    },
    {
      "cell_type": "code",
      "metadata": {
        "id": "O-2y7nNcUx-m",
        "colab_type": "code",
        "outputId": "c7dd2b77-db99-4df2-e0d1-62e7efd58a74",
        "colab": {
          "base_uri": "https://localhost:8080/",
          "height": 425
        }
      },
      "source": [
        "# compile model\n",
        "model.compile(optimizer=optimizer, loss='sparse_categorical_crossentropy', metrics=['accuracy'])\n",
        "\n",
        "model.summary()"
      ],
      "execution_count": 0,
      "outputs": [
        {
          "output_type": "stream",
          "text": [
            "Model: \"sequential_96\"\n",
            "_________________________________________________________________\n",
            "Layer (type)                 Output Shape              Param #   \n",
            "=================================================================\n",
            "conv2d_484 (Conv2D)          (None, 28, 28, 32)        320       \n",
            "_________________________________________________________________\n",
            "conv2d_485 (Conv2D)          (None, 26, 26, 64)        18496     \n",
            "_________________________________________________________________\n",
            "max_pooling2d_211 (MaxPoolin (None, 13, 13, 64)        0         \n",
            "_________________________________________________________________\n",
            "dropout_173 (Dropout)        (None, 13, 13, 64)        0         \n",
            "_________________________________________________________________\n",
            "flatten_56 (Flatten)         (None, 10816)             0         \n",
            "_________________________________________________________________\n",
            "dense_112 (Dense)            (None, 128)               1384576   \n",
            "_________________________________________________________________\n",
            "dropout_174 (Dropout)        (None, 128)               0         \n",
            "_________________________________________________________________\n",
            "dense_113 (Dense)            (None, 10)                1290      \n",
            "=================================================================\n",
            "Total params: 1,404,682\n",
            "Trainable params: 1,404,682\n",
            "Non-trainable params: 0\n",
            "_________________________________________________________________\n"
          ],
          "name": "stdout"
        }
      ]
    },
    {
      "cell_type": "code",
      "metadata": {
        "id": "zPDw6NCWf7-x",
        "colab_type": "code",
        "colab": {}
      },
      "source": [
        "# Assume that you have 12GB of GPU memory and want to allocate ~4GB:\n",
        "gpu_options = tf.GPUOptions(per_process_gpu_memory_fraction=0.5)\n",
        "\n",
        "sess = tf.Session(config=tf.ConfigProto(gpu_options=gpu_options))"
      ],
      "execution_count": 0,
      "outputs": []
    },
    {
      "cell_type": "code",
      "metadata": {
        "id": "UY4oaaTxXwrQ",
        "colab_type": "code",
        "outputId": "1b8f3490-22d0-42ec-dca7-79d6c5015610",
        "colab": {
          "base_uri": "https://localhost:8080/",
          "height": 1000
        }
      },
      "source": [
        "history = model.fit(X_train, y_train, epochs=50, validation_split=0.2, shuffle=True)"
      ],
      "execution_count": 0,
      "outputs": [
        {
          "output_type": "stream",
          "text": [
            "Train on 40000 samples, validate on 10000 samples\n",
            "Epoch 1/50\n",
            "40000/40000 [==============================] - 14s 350us/step - loss: 0.7242 - acc: 0.7392 - val_loss: 0.4639 - val_acc: 0.8292\n",
            "Epoch 2/50\n",
            "40000/40000 [==============================] - 8s 195us/step - loss: 0.4967 - acc: 0.8213 - val_loss: 0.4197 - val_acc: 0.8442\n",
            "Epoch 3/50\n",
            "40000/40000 [==============================] - 8s 194us/step - loss: 0.4385 - acc: 0.8411 - val_loss: 0.4058 - val_acc: 0.8486\n",
            "Epoch 4/50\n",
            "40000/40000 [==============================] - 8s 194us/step - loss: 0.4037 - acc: 0.8577 - val_loss: 0.3805 - val_acc: 0.8538\n",
            "Epoch 5/50\n",
            "40000/40000 [==============================] - 8s 194us/step - loss: 0.3794 - acc: 0.8637 - val_loss: 0.3728 - val_acc: 0.8618\n",
            "Epoch 6/50\n",
            "40000/40000 [==============================] - 8s 193us/step - loss: 0.3589 - acc: 0.8732 - val_loss: 0.3612 - val_acc: 0.8701\n",
            "Epoch 7/50\n",
            "40000/40000 [==============================] - 8s 195us/step - loss: 0.3481 - acc: 0.8761 - val_loss: 0.3658 - val_acc: 0.8655\n",
            "Epoch 8/50\n",
            "40000/40000 [==============================] - 8s 197us/step - loss: 0.3316 - acc: 0.8827 - val_loss: 0.3607 - val_acc: 0.8734\n",
            "Epoch 9/50\n",
            "40000/40000 [==============================] - 8s 195us/step - loss: 0.3213 - acc: 0.8867 - val_loss: 0.3698 - val_acc: 0.8708\n",
            "Epoch 10/50\n",
            "40000/40000 [==============================] - 8s 194us/step - loss: 0.3108 - acc: 0.8910 - val_loss: 0.3599 - val_acc: 0.8679\n",
            "Epoch 11/50\n",
            "40000/40000 [==============================] - 8s 193us/step - loss: 0.3081 - acc: 0.8952 - val_loss: 0.3503 - val_acc: 0.8763\n",
            "Epoch 12/50\n",
            "40000/40000 [==============================] - 8s 195us/step - loss: 0.3009 - acc: 0.8958 - val_loss: 0.3464 - val_acc: 0.8765\n",
            "Epoch 13/50\n",
            "40000/40000 [==============================] - 8s 195us/step - loss: 0.3006 - acc: 0.8972 - val_loss: 0.3563 - val_acc: 0.8771\n",
            "Epoch 14/50\n",
            "40000/40000 [==============================] - 8s 195us/step - loss: 0.2940 - acc: 0.8992 - val_loss: 0.3586 - val_acc: 0.8748\n",
            "Epoch 15/50\n",
            "40000/40000 [==============================] - 8s 194us/step - loss: 0.2851 - acc: 0.9035 - val_loss: 0.3644 - val_acc: 0.8776\n",
            "Epoch 16/50\n",
            "40000/40000 [==============================] - 8s 194us/step - loss: 0.2845 - acc: 0.9040 - val_loss: 0.3702 - val_acc: 0.8745\n",
            "Epoch 17/50\n",
            "40000/40000 [==============================] - 8s 194us/step - loss: 0.2809 - acc: 0.9037 - val_loss: 0.3565 - val_acc: 0.8805\n",
            "Epoch 18/50\n",
            "40000/40000 [==============================] - 8s 194us/step - loss: 0.2788 - acc: 0.9047 - val_loss: 0.3541 - val_acc: 0.8793\n",
            "Epoch 19/50\n",
            "40000/40000 [==============================] - 8s 196us/step - loss: 0.2772 - acc: 0.9064 - val_loss: 0.3885 - val_acc: 0.8742\n",
            "Epoch 20/50\n",
            "40000/40000 [==============================] - 8s 201us/step - loss: 0.2666 - acc: 0.9102 - val_loss: 0.3675 - val_acc: 0.8798\n",
            "Epoch 21/50\n",
            "40000/40000 [==============================] - 8s 194us/step - loss: 0.2652 - acc: 0.9096 - val_loss: 0.3802 - val_acc: 0.8810\n",
            "Epoch 22/50\n",
            "40000/40000 [==============================] - 8s 195us/step - loss: 0.2704 - acc: 0.9106 - val_loss: 0.3928 - val_acc: 0.8765\n",
            "Epoch 23/50\n",
            "40000/40000 [==============================] - 8s 194us/step - loss: 0.2619 - acc: 0.9123 - val_loss: 0.4294 - val_acc: 0.8766\n",
            "Epoch 24/50\n",
            "40000/40000 [==============================] - 8s 195us/step - loss: 0.2616 - acc: 0.9129 - val_loss: 0.3659 - val_acc: 0.8771\n",
            "Epoch 25/50\n",
            "40000/40000 [==============================] - 8s 194us/step - loss: 0.2593 - acc: 0.9128 - val_loss: 0.3576 - val_acc: 0.8754\n",
            "Epoch 26/50\n",
            "40000/40000 [==============================] - 8s 194us/step - loss: 0.2585 - acc: 0.9133 - val_loss: 0.3901 - val_acc: 0.8733\n",
            "Epoch 27/50\n",
            "40000/40000 [==============================] - 8s 193us/step - loss: 0.2580 - acc: 0.9148 - val_loss: 0.3599 - val_acc: 0.8798\n",
            "Epoch 28/50\n",
            "40000/40000 [==============================] - 8s 193us/step - loss: 0.2557 - acc: 0.9153 - val_loss: 0.4485 - val_acc: 0.8770\n",
            "Epoch 29/50\n",
            "40000/40000 [==============================] - 8s 195us/step - loss: 0.2569 - acc: 0.9152 - val_loss: 0.4153 - val_acc: 0.8796\n",
            "Epoch 30/50\n",
            "40000/40000 [==============================] - 8s 194us/step - loss: 0.2569 - acc: 0.9150 - val_loss: 0.4038 - val_acc: 0.8779\n",
            "Epoch 31/50\n",
            "40000/40000 [==============================] - 8s 195us/step - loss: 0.2566 - acc: 0.9170 - val_loss: 0.4066 - val_acc: 0.8760\n",
            "Epoch 32/50\n",
            "40000/40000 [==============================] - 8s 194us/step - loss: 0.2497 - acc: 0.9164 - val_loss: 0.3881 - val_acc: 0.8759\n",
            "Epoch 33/50\n",
            "40000/40000 [==============================] - 8s 197us/step - loss: 0.2506 - acc: 0.9177 - val_loss: 0.4246 - val_acc: 0.8694\n",
            "Epoch 34/50\n",
            "40000/40000 [==============================] - 8s 194us/step - loss: 0.2529 - acc: 0.9168 - val_loss: 0.3891 - val_acc: 0.8745\n",
            "Epoch 35/50\n",
            "40000/40000 [==============================] - 8s 194us/step - loss: 0.2459 - acc: 0.9190 - val_loss: 0.4280 - val_acc: 0.8760\n",
            "Epoch 36/50\n",
            "40000/40000 [==============================] - 8s 194us/step - loss: 0.2460 - acc: 0.9195 - val_loss: 0.3823 - val_acc: 0.8766\n",
            "Epoch 37/50\n",
            "40000/40000 [==============================] - 8s 196us/step - loss: 0.2498 - acc: 0.9172 - val_loss: 0.4319 - val_acc: 0.8745\n",
            "Epoch 38/50\n",
            "40000/40000 [==============================] - 8s 194us/step - loss: 0.2513 - acc: 0.9198 - val_loss: 0.3815 - val_acc: 0.8746\n",
            "Epoch 39/50\n",
            "40000/40000 [==============================] - 8s 194us/step - loss: 0.2503 - acc: 0.9182 - val_loss: 0.4554 - val_acc: 0.8758\n",
            "Epoch 40/50\n",
            "40000/40000 [==============================] - 8s 194us/step - loss: 0.2436 - acc: 0.9191 - val_loss: 0.4356 - val_acc: 0.8752\n",
            "Epoch 41/50\n",
            "40000/40000 [==============================] - 8s 195us/step - loss: 0.2470 - acc: 0.9188 - val_loss: 0.4543 - val_acc: 0.8761\n",
            "Epoch 42/50\n",
            "40000/40000 [==============================] - 8s 194us/step - loss: 0.2429 - acc: 0.9212 - val_loss: 0.4503 - val_acc: 0.8793\n",
            "Epoch 43/50\n",
            "40000/40000 [==============================] - 8s 196us/step - loss: 0.2372 - acc: 0.9213 - val_loss: 0.4766 - val_acc: 0.8755\n",
            "Epoch 44/50\n",
            "40000/40000 [==============================] - 8s 195us/step - loss: 0.2391 - acc: 0.9202 - val_loss: 0.5093 - val_acc: 0.8747\n",
            "Epoch 45/50\n",
            "40000/40000 [==============================] - 8s 196us/step - loss: 0.2389 - acc: 0.9224 - val_loss: 0.4677 - val_acc: 0.8718\n",
            "Epoch 46/50\n",
            "40000/40000 [==============================] - 8s 195us/step - loss: 0.2392 - acc: 0.9214 - val_loss: 0.4593 - val_acc: 0.8737\n",
            "Epoch 47/50\n",
            "40000/40000 [==============================] - 8s 197us/step - loss: 0.2396 - acc: 0.9206 - val_loss: 0.4469 - val_acc: 0.8734\n",
            "Epoch 48/50\n",
            "40000/40000 [==============================] - 8s 195us/step - loss: 0.2412 - acc: 0.9213 - val_loss: 0.4626 - val_acc: 0.8755\n",
            "Epoch 49/50\n",
            "40000/40000 [==============================] - 8s 195us/step - loss: 0.2376 - acc: 0.9229 - val_loss: 0.4142 - val_acc: 0.8730\n",
            "Epoch 50/50\n",
            "40000/40000 [==============================] - 8s 194us/step - loss: 0.2397 - acc: 0.9220 - val_loss: 0.4822 - val_acc: 0.8704\n"
          ],
          "name": "stdout"
        }
      ]
    },
    {
      "cell_type": "code",
      "metadata": {
        "id": "B0cistNXfEFD",
        "colab_type": "code",
        "colab": {}
      },
      "source": [
        "model.save('finalCNN.h5')"
      ],
      "execution_count": 0,
      "outputs": []
    },
    {
      "cell_type": "code",
      "metadata": {
        "id": "utajtCzlfdDk",
        "colab_type": "code",
        "colab": {}
      },
      "source": [
        "y_pred = model.predict(X_test)"
      ],
      "execution_count": 0,
      "outputs": []
    },
    {
      "cell_type": "code",
      "metadata": {
        "id": "WRQ3iYFbkCU0",
        "colab_type": "code",
        "colab": {}
      },
      "source": [
        "y= []\n",
        "for pred in y_pred:\n",
        "  \n",
        "  pred = list(pred)\n",
        "  pr = pred.index((max(pred)))\n",
        "\n",
        "  y.append(pr)\n"
      ],
      "execution_count": 0,
      "outputs": []
    },
    {
      "cell_type": "code",
      "metadata": {
        "id": "HUfGozPYlaTN",
        "colab_type": "code",
        "outputId": "f6293605-6c3e-4903-bb8b-410027abc5dc",
        "colab": {
          "base_uri": "https://localhost:8080/",
          "height": 34
        }
      },
      "source": [
        "print(y[:10])"
      ],
      "execution_count": 0,
      "outputs": [
        {
          "output_type": "stream",
          "text": [
            "[9, 5, 2, 1, 8, 3, 8, 9, 9, 9]\n"
          ],
          "name": "stdout"
        }
      ]
    },
    {
      "cell_type": "code",
      "metadata": {
        "id": "x-dYlqQznOqW",
        "colab_type": "code",
        "outputId": "e614fb07-8743-4886-e8dd-5134a6e7d9fa",
        "colab": {
          "base_uri": "https://localhost:8080/",
          "height": 34
        }
      },
      "source": [
        "print(len(y))"
      ],
      "execution_count": 0,
      "outputs": [
        {
          "output_type": "stream",
          "text": [
            "20000\n"
          ],
          "name": "stdout"
        }
      ]
    },
    {
      "cell_type": "code",
      "metadata": {
        "id": "l63QSFvDfXVI",
        "colab_type": "code",
        "colab": {}
      },
      "source": [
        "with open('submission3.csv', 'w') as csvfile:\n",
        "    writer = csv.writer(csvfile, delimiter=',')\n",
        "    writer.writerow(['ID', 'label'])\n",
        "\n",
        "    for c, row in enumerate(y):\n",
        "      writer.writerow((c, row))"
      ],
      "execution_count": 0,
      "outputs": []
    },
    {
      "cell_type": "code",
      "metadata": {
        "id": "V8V2mPmsiSKF",
        "colab_type": "code",
        "colab": {}
      },
      "source": [
        "model.save_weights('finaleCNNweights.h5')"
      ],
      "execution_count": 0,
      "outputs": []
    },
    {
      "cell_type": "code",
      "metadata": {
        "id": "hujupq-AYS6t",
        "colab_type": "code",
        "colab": {}
      },
      "source": [
        "final_model = load_model('CNN1.h5')"
      ],
      "execution_count": 0,
      "outputs": []
    },
    {
      "cell_type": "code",
      "metadata": {
        "id": "52oULMuVuRfN",
        "colab_type": "code",
        "colab": {}
      },
      "source": [
        ""
      ],
      "execution_count": 0,
      "outputs": []
    }
  ]
}